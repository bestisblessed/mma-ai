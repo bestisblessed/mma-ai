{
 "cells": [
  {
   "cell_type": "code",
   "execution_count": 1,
   "id": "fc4e90a4",
   "metadata": {},
   "outputs": [
    {
     "name": "stderr",
     "output_type": "stream",
     "text": [
      "/Users/td/.pyenv/versions/3.12.0/lib/python3.12/site-packages/pydantic/_internal/_config.py:323: PydanticDeprecatedSince20: Support for class-based `config` is deprecated, use ConfigDict instead. Deprecated in Pydantic V2.0 to be removed in V3.0. See Pydantic V2 Migration Guide at https://errors.pydantic.dev/2.11/migration/\n",
      "  warnings.warn(DEPRECATION_MESSAGE, DeprecationWarning)\n",
      "/Users/td/.pyenv/versions/3.12.0/lib/python3.12/site-packages/pydantic/_internal/_fields.py:198: UserWarning: Field name \"schema\" in \"DatabricksQueryToolSchema\" shadows an attribute in parent \"BaseModel\"\n",
      "  warnings.warn(\n",
      "/Users/td/.pyenv/versions/3.12.0/lib/python3.12/site-packages/pydantic/_internal/_generate_schema.py:623: UserWarning: <built-in function callable> is not a Python type (it may be an instance of an object), Pydantic will allow any object with no validation since we cannot even enforce that the input is an instance of the given type. To get rid of this error wrap the type with `pydantic.SkipValidation`.\n",
      "  warn(\n",
      "/Users/td/.pyenv/versions/3.12.0/lib/python3.12/site-packages/crewai_tools/tools/scrapegraph_scrape_tool/scrapegraph_scrape_tool.py:34: PydanticDeprecatedSince20: Pydantic V1 style `@validator` validators are deprecated. You should migrate to Pydantic V2 style `@field_validator` validators, see the migration guide for more details. Deprecated in Pydantic V2.0 to be removed in V3.0. See Pydantic V2 Migration Guide at https://errors.pydantic.dev/2.11/migration/\n",
      "  @validator(\"website_url\")\n",
      "/Users/td/.pyenv/versions/3.12.0/lib/python3.12/site-packages/crewai_tools/tools/selenium_scraping_tool/selenium_scraping_tool.py:26: PydanticDeprecatedSince20: Pydantic V1 style `@validator` validators are deprecated. You should migrate to Pydantic V2 style `@field_validator` validators, see the migration guide for more details. Deprecated in Pydantic V2.0 to be removed in V3.0. See Pydantic V2 Migration Guide at https://errors.pydantic.dev/2.11/migration/\n",
      "  @validator(\"website_url\")\n",
      "/Users/td/.pyenv/versions/3.12.0/lib/python3.12/site-packages/crewai_tools/tools/vision_tool/vision_tool.py:15: PydanticDeprecatedSince20: Pydantic V1 style `@validator` validators are deprecated. You should migrate to Pydantic V2 style `@field_validator` validators, see the migration guide for more details. Deprecated in Pydantic V2.0 to be removed in V3.0. See Pydantic V2 Migration Guide at https://errors.pydantic.dev/2.11/migration/\n",
      "  @validator(\"image_path_url\")\n"
     ]
    }
   ],
   "source": [
    "import os\n",
    "from dotenv import load_dotenv\n",
    "from crewai import Agent, Task, Crew, Process\n",
    "from crewai_tools import SerperDevTool, CSVSearchTool\n",
    "import warnings\n",
    "warnings.filterwarnings(\"ignore\", category=DeprecationWarning)\n",
    "warnings.filterwarnings(\"ignore\", category=UserWarning)"
   ]
  },
  {
   "cell_type": "markdown",
   "id": "58b52432",
   "metadata": {},
   "source": [
    "<div style=\"text-align: center;\">\n",
    "<!--     <h1 style=\"color: purple; font-size: 3.5em;\">MMA AI</h1> -->\n",
    "<!--     <br> -->\n",
    "    <img src=\"./images/holloway.jpeg\" alt=\"Holloway\" style=\"max-width: 70%; height: auto;\">\n",
    "<!--     <br> -->\n",
    "    <h1 style=\"color: purple; font-size: 3.5em;\">MMA AI</h1>\n",
    "</div>\n"
   ]
  },
  {
   "cell_type": "code",
   "execution_count": 3,
   "id": "89d71826",
   "metadata": {},
   "outputs": [],
   "source": [
    "load_dotenv()\n",
    "OPENAI_API_KEY = os.getenv(\"OPENAI_API_KEY\")\n",
    "SERPER_API_KEY = os.getenv(\"SERPER_API_KEY\")\n",
    "\n",
    "os.environ[\"OPENAI_MODEL_NAME\"]=\"gpt-4o\""
   ]
  },
  {
   "cell_type": "code",
   "execution_count": 4,
   "id": "944a6d0b",
   "metadata": {},
   "outputs": [],
   "source": [
    "search_tool = SerperDevTool()\n",
    "\n",
    "#csv_tool1 = CSVSearchTool(csv='./data/master.csv')\n",
    "csv_tool1 = CSVSearchTool(csv='./data/fighter_info.csv')\n",
    "csv_tool2 = CSVSearchTool(csv='./data/event_data_sherdog.csv')\n",
    "# directory_tool = DirectoryReadTool(directory='./data')"
   ]
  },
  {
   "cell_type": "code",
   "execution_count": 5,
   "id": "ba09e223",
   "metadata": {},
   "outputs": [],
   "source": [
    "# fighter1 = input(\"Fighter 1: \")\n",
    "# fighter2 = input(\"Fighter 2: \")\n",
    "\n",
    "# fighter1 = 'Michael Page'\n",
    "# fighter2 = 'Ian Garry'\n",
    "\n",
    "#fighter1 = 'Brian Ortega'\n",
    "#fighter2 = 'Diego Lopes'\n",
    "\n",
    "fighter1 = 'Gilbert Burns'\n",
    "fighter2 = 'Michael Morales'\n"
   ]
  },
  {
   "cell_type": "code",
   "execution_count": 6,
   "id": "7c84e216",
   "metadata": {},
   "outputs": [],
   "source": [
    "agent1 = Agent(\n",
    "    role='Fight Researcher & Analyst',\n",
    "    goal='Gather comprehensive information about upcoming UFC fights',\n",
    "    backstory=\"\"\"\n",
    "    You are a seasoned analyst with a deep understanding of MMA/UFC.\n",
    "    You specialize in breaking down fights, with expertise in dissecting historical fight outcomes and statistics.\n",
    "    You provide insights into how a fighter's recent experiences might influence their next performance.\n",
    "    \"\"\",\n",
    "    tools=[csv_tool1, csv_tool2],\n",
    "#     allow_delegation=True\n",
    ")\n",
    "\n",
    "agent2 = Agent(\n",
    "    role='Public Sentiment Researcher & Analyst',\n",
    "    goal='Analyze public bias, sentiment, and unusual news related to the fighters',\n",
    "    backstory=\"\"\"\n",
    "    You are an expert in public sentiment analysis.\n",
    "    You specialize in gathering and interpreting data from news sources, social media, and other public platforms.\n",
    "    Your keen insight helps uncover public biases, general sentiment, and any unusual news that might impact the perception of fighters.\n",
    "    \"\"\",\n",
    "    tools=[search_tool],\n",
    "    allow_delegation=True\n",
    ")\n",
    "\n",
    "agent_final = Agent(\n",
    "    role='Expert MMA Handicapper',\n",
    "    goal='Generate detailed predictions for upcoming UFC fights based on gathered data and professional techniques',\n",
    "    backstory=\"\"\"\n",
    "    You are a professional handicapper in Las Vegas.\n",
    "    You are an expert in predictive analytics and fight analysis.\n",
    "    You integrate detailed statistics, historical performances, and public sentiment to provide a comprehensive prediction for upcoming fights.\n",
    "    Your insights help forecast the potential outcome with high accuracy.\"\"\",\n",
    "    tools=[search_tool],\n",
    "    allow_delegation=True\n",
    ")\n"
   ]
  },
  {
   "cell_type": "code",
   "execution_count": 7,
   "id": "c23ee14f",
   "metadata": {},
   "outputs": [],
   "source": [
    "task1 = Task(\n",
    "    description=f\"Research detailed statistics and historical performance of {fighter1}\",\n",
    "    expected_output=f\"Comprehensive statistical report on {fighter1}.\",\n",
    "    agent=agent1,\n",
    "    output_file=f\"{fighter1}_vs_{fighter2}/upcoming_fight_research_{fighter1}.md\"\n",
    ")\n",
    "\n",
    "task2 = Task(\n",
    "    description=f\"Research detailed statistics and historical performance of {fighter2}\",\n",
    "    expected_output=f\"Comprehensive statistical report on {fighter2}.\",\n",
    "    agent=agent1,\n",
    "    output_file=f\"{fighter1}_vs_{fighter2}/upcoming_fight_research_{fighter2}.md\"\n",
    ")\n",
    "\n",
    "task3 = Task(\n",
    "    description=f\"Analyze public sentiment, bias, and unusual news about the upcoming fight between {fighter1} and {fighter2}.\",\n",
    "    expected_output=f\"Sentiment analysis report on public perception, bias, and unusual news regarding the fight between {fighter1} and {fighter2}.\",\n",
    "    agent=agent2,\n",
    "    output_file=f\"{fighter1}_vs_{fighter2}/upcoming_fight_research_sentiment_{fighter1}_vs_{fighter2}.md\"\n",
    ")\n",
    "\n",
    "task4 = Task(\n",
    "    description=f\"Generate American betting lines for {fighter1} vs {fighter2}.\",\n",
    "    expected_output=\"American betting lines for the fight, including moneyline odds for both fighters and method of victory.\",\n",
    "    agent=agent_final,\n",
    "    output_file=f\"{fighter1}_vs_{fighter2}/upcoming_fight_research_odds_{fighter1}_vs_{fighter2}.md\"\n",
    ")\n",
    "\n",
    "task_final = Task(\n",
    "    description=f\"Generate a detailed prediction for the upcoming fight between {fighter1} and {fighter2} with a detailed explanation of your reasoning behind it using all gathered information\",\n",
    "    expected_output=\"A prediction of the fight outcome with a detailed explanation of your reasoning behind it.\",\n",
    "    agent=agent_final,\n",
    "    output_file=f\"{fighter1}_vs_{fighter2}/upcoming_fight_prediction_{fighter1}_vs_{fighter2}.md\"\n",
    ")\n",
    "\n",
    "os.makedirs(f\"{fighter1}_vs_{fighter2}\", exist_ok=True)"
   ]
  },
  {
   "cell_type": "code",
   "execution_count": 9,
   "id": "536c09eb",
   "metadata": {
    "scrolled": false
   },
   "outputs": [
    {
     "name": "stderr",
     "output_type": "stream",
     "text": [
      "2025-05-16 02:28:45,964 - 8632344320 - local_persistent_hnsw.py-local_persistent_hnsw:339 - WARNING: Add of existing embedding ID: default-app-id--d71ce093fa39760341b006ba5c79e541aab8b4a4d38ef05c0d1c7ae0f603410e\n"
     ]
    },
    {
     "name": "stdout",
     "output_type": "stream",
     "text": [
      "The upcoming fight between Gilbert Burns and Michael Morales promises to be a compelling clash of styles. Gilbert Burns, known for his exceptional grappling skills, has a proven track record in securing victories through submissions. His recent performances have shown his ability to endure through rounds and capitalize on precise moments to execute submission holds, making him a dangerous competitor when the fight goes to the ground.\n",
      "\n",
      "On the other hand, Michael Morales comes into this fight with an untarnished record of 17-0. His knockout power is a significant factor, having achieved 12 of his 17 wins by knockout. Morales's proficiency in striking, combined with his height advantage at 6 feet, positions him well to manage distance and execute powerful strikes aimed at neutralizing Burns's takedown attempts.\n",
      "\n",
      "Public sentiment heavily favors Morales due to his undefeated status and knockout ratio, creating an image of an emerging star rising against a seasoned veteran. The narrative surrounding this fight suggests a potential transition in the welterweight division, with Morales seen as a bright prospect poised to take on higher-ranked contenders.\n",
      "\n",
      "The betting odds reflect Morales's advantage standing, with a moneyline of -700 compared to Burns's +500. The odds for a Morales knockout victory are notably strong at -300, indicating a public expectation of a striking-centered outcome. In contrast, Burns's best chance appears to lie in his grappling expertise, with a submission victory priced at +400.\n",
      "\n",
      "In conclusion, the fight is likely to revolve around whether Morales can maintain his striking distance and use his power effectively, or if Burns can close the gap, bring the fight to the mat, and showcase his renowned submission prowess. While Morales is favored to win, Burns's experience and Brazilian Jiu-Jitsu skills should not be underestimated. Expect Morales to try to finish the fight with striking, but Burns poses a threat if he can drag the match into his grappling domain.\n",
      "\n",
      "Ultimately, the prediction leans towards Michael Morales winning, potentially via knockout, given his striking capabilities and current momentum in the sport.\n"
     ]
    }
   ],
   "source": [
    "crew = Crew(\n",
    "    agents=[agent1, agent2, agent_final],\n",
    "    tasks=[task1, task2, task3, task4, task_final],\n",
    "    #verbose=2\n",
    ")\n",
    "\n",
    "result = crew.kickoff()\n",
    "print(result)"
   ]
  },
  {
   "cell_type": "code",
   "execution_count": null,
   "id": "092e7ffe",
   "metadata": {},
   "outputs": [],
   "source": []
  }
 ],
 "metadata": {
  "kernelspec": {
   "display_name": "Python 3",
   "language": "python",
   "name": "python3"
  },
  "language_info": {
   "codemirror_mode": {
    "name": "ipython",
    "version": 3
   },
   "file_extension": ".py",
   "mimetype": "text/x-python",
   "name": "python",
   "nbconvert_exporter": "python",
   "pygments_lexer": "ipython3",
   "version": "3.12.0"
  }
 },
 "nbformat": 4,
 "nbformat_minor": 5
}

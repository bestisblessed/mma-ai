{
 "cells": [
  {
   "cell_type": "code",
   "execution_count": 1,
   "id": "fc4e90a4",
   "metadata": {},
   "outputs": [
    {
     "name": "stderr",
     "output_type": "stream",
     "text": [
      "/Users/td/.pyenv/versions/3.12.0/lib/python3.12/site-packages/pydantic/_internal/_config.py:323: PydanticDeprecatedSince20: Support for class-based `config` is deprecated, use ConfigDict instead. Deprecated in Pydantic V2.0 to be removed in V3.0. See Pydantic V2 Migration Guide at https://errors.pydantic.dev/2.11/migration/\n",
      "  warnings.warn(DEPRECATION_MESSAGE, DeprecationWarning)\n",
      "/Users/td/.pyenv/versions/3.12.0/lib/python3.12/site-packages/pydantic/_internal/_fields.py:198: UserWarning: Field name \"schema\" in \"DatabricksQueryToolSchema\" shadows an attribute in parent \"BaseModel\"\n",
      "  warnings.warn(\n",
      "/Users/td/.pyenv/versions/3.12.0/lib/python3.12/site-packages/pydantic/_internal/_generate_schema.py:623: UserWarning: <built-in function callable> is not a Python type (it may be an instance of an object), Pydantic will allow any object with no validation since we cannot even enforce that the input is an instance of the given type. To get rid of this error wrap the type with `pydantic.SkipValidation`.\n",
      "  warn(\n",
      "/Users/td/.pyenv/versions/3.12.0/lib/python3.12/site-packages/crewai_tools/tools/scrapegraph_scrape_tool/scrapegraph_scrape_tool.py:34: PydanticDeprecatedSince20: Pydantic V1 style `@validator` validators are deprecated. You should migrate to Pydantic V2 style `@field_validator` validators, see the migration guide for more details. Deprecated in Pydantic V2.0 to be removed in V3.0. See Pydantic V2 Migration Guide at https://errors.pydantic.dev/2.11/migration/\n",
      "  @validator(\"website_url\")\n",
      "/Users/td/.pyenv/versions/3.12.0/lib/python3.12/site-packages/crewai_tools/tools/selenium_scraping_tool/selenium_scraping_tool.py:26: PydanticDeprecatedSince20: Pydantic V1 style `@validator` validators are deprecated. You should migrate to Pydantic V2 style `@field_validator` validators, see the migration guide for more details. Deprecated in Pydantic V2.0 to be removed in V3.0. See Pydantic V2 Migration Guide at https://errors.pydantic.dev/2.11/migration/\n",
      "  @validator(\"website_url\")\n",
      "/Users/td/.pyenv/versions/3.12.0/lib/python3.12/site-packages/crewai_tools/tools/vision_tool/vision_tool.py:15: PydanticDeprecatedSince20: Pydantic V1 style `@validator` validators are deprecated. You should migrate to Pydantic V2 style `@field_validator` validators, see the migration guide for more details. Deprecated in Pydantic V2.0 to be removed in V3.0. See Pydantic V2 Migration Guide at https://errors.pydantic.dev/2.11/migration/\n",
      "  @validator(\"image_path_url\")\n"
     ]
    }
   ],
   "source": [
    "import os\n",
    "from dotenv import load_dotenv\n",
    "from crewai import Agent, Task, Crew, Process\n",
    "from crewai_tools import SerperDevTool"
   ]
  },
  {
   "cell_type": "markdown",
   "id": "58b52432",
   "metadata": {},
   "source": [
    "<div style=\"text-align: center;\">\n",
    "<!--     <h1 style=\"color: purple; font-size: 3.5em;\">MMA AI</h1> -->\n",
    "<!--     <br> -->\n",
    "    <img src=\"./images/holloway.jpeg\" alt=\"Holloway\" style=\"max-width: 70%; height: auto;\">\n",
    "<!--     <br> -->\n",
    "    <h1 style=\"color: purple; font-size: 3.5em;\">MMA AI</h1>\n",
    "</div>\n"
   ]
  },
  {
   "cell_type": "code",
   "execution_count": 2,
   "id": "89d71826",
   "metadata": {},
   "outputs": [],
   "source": [
    "load_dotenv()\n",
    "OPENAI_API_KEY = os.getenv(\"OPENAI_API_KEY\")\n",
    "SERPER_API_KEY = os.getenv(\"SERPER_API_KEY\")\n",
    "\n",
    "os.environ[\"OPENAI_MODEL_NAME\"]=\"gpt-4o-mini\"\n",
    "# os.environ[\"OPENAI_MODEL_NAME\"]=\"gpt-3.5-turbo\"\n",
    "\n",
    "search_tool = SerperDevTool()"
   ]
  },
  {
   "cell_type": "code",
   "execution_count": 3,
   "id": "ba09e223",
   "metadata": {},
   "outputs": [],
   "source": [
    "# fighter1 = input(\"Fighter 1: \")\n",
    "# fighter2 = input(\"Fighter 2: \")\n",
    "\n",
    "# fighter1 = 'Michael Page'\n",
    "# fighter2 = 'Ian Garry'\n",
    "\n",
    "# fighter1 = 'Alex Pereira'\n",
    "# fighter2 = 'Jiri Prochazka'\n",
    "\n",
    "# fighter1 = 'Brian Ortega'\n",
    "# fighter2 = 'Diego Lopes'\n",
    "\n",
    "# fighter1 = 'Anthony Smith'\n",
    "# fighter2 = 'Roman Dolidze'\n",
    "\n",
    "# fighter1 = 'Mayra Bueno Silva'\n",
    "# fighter2 = 'Macy Chiasson'\n",
    "\n",
    "# fighter1 = 'Joe Pyfer'\n",
    "# fighter2 = 'Marc-Andre Barriault'\n",
    "#\n",
    "#fighter1 = 'Cub Swanson'\n",
    "#fighter2 = 'Andre Fili'\n",
    "\n",
    "fighter1 = 'Gilbert Burns'\n",
    "fighter2 = 'Michael Morales'"
   ]
  },
  {
   "cell_type": "code",
   "execution_count": 4,
   "id": "7c84e216",
   "metadata": {},
   "outputs": [],
   "source": [
    "agent1 = Agent(\n",
    "    role='Fight Researcher & Analyst',\n",
    "    goal='Gather comprehensive information about upcoming UFC fights',\n",
    "    backstory=\"\"\"\n",
    "    You are a seasoned analyst with a deep understanding of MMA/UFC.\n",
    "    You specialize in breaking down fights, with expertise in dissecting historical fight outcomes and statistics.\n",
    "    You provide insights into how a fighter's recent experiences might influence their next performance.\n",
    "    \"\"\",\n",
    "    tools=[search_tool],\n",
    "    allow_delegation=True,\n",
    "    #max_iter=10,\n",
    ")\n",
    "\n",
    "agent2 = Agent(\n",
    "    role='Public Sentiment Researcher & Analyst',\n",
    "    goal='Analyze public bias, sentiment, and unusual news related to the fighters',\n",
    "    backstory=\"\"\"\n",
    "    You are an expert in public sentiment analysis.\n",
    "    You specialize in gathering and interpreting data from news sources, social media, and other public platforms.\n",
    "    Your keen insight helps uncover public biases, general sentiment, and any unusual news that might impact the perception of fighters.\n",
    "    \"\"\",\n",
    "    tools=[search_tool],\n",
    "    allow_delegation=True,\n",
    "    max_iter=15,\n",
    ")\n",
    "\n",
    "agent_final = Agent(\n",
    "    role='Expert MMA Handicapper',\n",
    "    goal='Generate detailed predictions for upcoming UFC fights based on gathered data and professional techniques',\n",
    "    backstory=\"\"\"\n",
    "    You are a professional handicapper in Las Vegas.\n",
    "    You are an expert in predictive analytics and fight analysis.\n",
    "    You integrate detailed statistics, historical performances, and public sentiment to provide a comprehensive prediction for upcoming fights.\n",
    "    Your insights help forecast the potential outcome with high accuracy.\"\"\",\n",
    "    allow_delegation=True,\n",
    "#     tools=[search_tool],\n",
    "#     max_iter=10,\n",
    ")\n"
   ]
  },
  {
   "cell_type": "code",
   "execution_count": 5,
   "id": "c23ee14f",
   "metadata": {},
   "outputs": [],
   "source": [
    "task1 = Task(\n",
    "    description=f\"Research detailed statistics and historical performance of {fighter1}\",\n",
    "    expected_output=f\"Comprehensive statistical report on {fighter1}.\",\n",
    "    agent=agent1,\n",
    "    output_file=f\"{fighter1}_vs_{fighter2}/upcoming_fight_research_{fighter1}.md\"\n",
    ")\n",
    "\n",
    "task2 = Task(\n",
    "    description=f\"Research detailed statistics and historical performance of {fighter2}\",\n",
    "    expected_output=f\"Comprehensive statistical report on {fighter2}.\",\n",
    "    agent=agent1,\n",
    "    output_file=f\"{fighter1}_vs_{fighter2}/upcoming_fight_research_{fighter2}.md\"\n",
    ")\n",
    "\n",
    "task3 = Task(\n",
    "    description=f\"Analyze public sentiment, bias, and unusual news about the upcoming fight between {fighter1} and {fighter2}.\",\n",
    "    expected_output=f\"Sentiment analysis report on public perception, bias, and unusual news regarding the fight between {fighter1} and {fighter2}.\",\n",
    "    agent=agent2,\n",
    "    output_file=f\"{fighter1}_vs_{fighter2}/upcoming_fight_research_sentiment_{fighter1}_vs_{fighter2}.md\"\n",
    ")\n",
    "\n",
    "task4 = Task(\n",
    "    description=f\"Generate American betting lines for {fighter1} vs {fighter2}.\",\n",
    "    expected_output=\"American betting lines for the fight, including moneyline odds for both fighters and method of victory.\",\n",
    "    agent=agent_final,\n",
    "    output_file=f\"{fighter1}_vs_{fighter2}/upcoming_fight_research_odds_{fighter1}_vs_{fighter2}.md\"\n",
    ")\n",
    "\n",
    "task_final = Task(\n",
    "    description=f\"Generate a detailed prediction for the upcoming fight between {fighter1} and {fighter2} with a detailed explanation of your reasoning behind it using all gathered information\",\n",
    "    expected_output=\"A prediction of the fight outcome with a detailed explanation of your reasoning behind it.\",\n",
    "    agent=agent_final,\n",
    "    output_file=f\"{fighter1}_vs_{fighter2}/upcoming_fight_prediction_{fighter1}_vs_{fighter2}.md\"\n",
    ")\n",
    "\n",
    "os.makedirs(f\"{fighter1}_vs_{fighter2}\", exist_ok=True)"
   ]
  },
  {
   "cell_type": "code",
   "execution_count": 6,
   "id": "536c09eb",
   "metadata": {
    "scrolled": false
   },
   "outputs": [
    {
     "name": "stdout",
     "output_type": "stream",
     "text": [
      "In the upcoming matchup between Gilbert Burns and Michael Morales at UFC Fight Night, numerous factors will play a crucial role in determining the fight's outcome.\n",
      "\n",
      "**Gilbert Burns Analysis:**\n",
      "1. **Grappling Skills**: Burns has elite Brazilian Jiu-Jitsu skills and holds a black belt, making him one of the most dangerous grapplers in the welterweight division. His ability to take the fight to the ground and secure submissions has been a significant part of his success. Out of his 22 wins, 9 were via submission, showcasing his grappling threat.\n",
      "   \n",
      "2. **Recent Performance**: Burns is currently on a three-fight losing streak, having faced top-tier opponents such as Khamzat Chimaev, Sean Brady, and Jack Della Maddalena. This downturn raises questions about his psychological resilience. Being on a losing streak can take a toll on a fighter's confidence and mental state.\n",
      "\n",
      "3. **Current Context and Odds**: Burns is currently listed as a significant underdog with odds around +500, suggesting public sentiment is heavily against him. This may also reflect some doubts about his adaptability and ability to rebound after his recent losses.\n",
      "\n",
      "**Michael Morales Analysis:**\n",
      "1. **Undefeated Record**: Morales boasts an impressive 17-0 record, including 5-0 in the UFC, highlighting his potential to be a rising star in the division. His striking ability has led to three finishes in his first five UFC fights, displaying his power and finishing instincts.\n",
      "\n",
      "2. **Tactical Adaptability**: Morales has shown the ability to adapt within fights. He utilizes straight punches and low kicks effectively, which could capitalize on Burns' linear movement. His most recent victory came via TKO, showcasing his evolution as a fighter.\n",
      "\n",
      "3. **Public Sentiment**: Morales is a strong favorite with odds approximately -850, indicating that the betting public and analysts see him as more likely to win, particularly against someone who is struggling to regain form.\n",
      "\n",
      "**Fight Prediction and Outcome Reasoning:**\n",
      "Considering the factors above, the most likely outcome leans towards Michael Morales. His recent performances, coupled with Burns' losing streak and psychological hurdles, suggest that Morales has the edge in both confidence and current momentum. Burns might leverage his grappling if he gets the opportunity, but Morales' adaptability and striking capability seem to outmatch Burns as of now.\n",
      "\n",
      "In conclusion, I predict that Michael Morales will win the fight, likely by a decision or a late TKO, utilizing his striking and potentially outclassing Burns in the stand-up exchanges. If Burns can make the fight go to the ground, he has a chance for a submission, but that will require a significant tactical execution given Morales’ skills and current form.\n"
     ]
    }
   ],
   "source": [
    "crew = Crew(\n",
    "    agents=[agent1, agent2, agent_final],\n",
    "    tasks=[task1, task2, task3, task4, task_final],\n",
    "#     verbose=2\n",
    ")\n",
    "\n",
    "result = crew.kickoff()\n",
    "print(result)"
   ]
  },
  {
   "cell_type": "code",
   "execution_count": null,
   "id": "092e7ffe",
   "metadata": {},
   "outputs": [],
   "source": []
  }
 ],
 "metadata": {
  "kernelspec": {
   "display_name": "Python 3",
   "language": "python",
   "name": "python3"
  },
  "language_info": {
   "codemirror_mode": {
    "name": "ipython",
    "version": 3
   },
   "file_extension": ".py",
   "mimetype": "text/x-python",
   "name": "python",
   "nbconvert_exporter": "python",
   "pygments_lexer": "ipython3",
   "version": "3.12.0"
  }
 },
 "nbformat": 4,
 "nbformat_minor": 5
}

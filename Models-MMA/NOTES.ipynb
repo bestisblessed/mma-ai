{
 "cells": [
  {
   "cell_type": "code",
   "execution_count": null,
   "id": "784842a8-586f-46f4-9b1a-d0705f2675c9",
   "metadata": {},
   "outputs": [],
   "source": []
  },
  {
   "cell_type": "markdown",
   "id": "9acd5b26-e046-4886-b68d-de864283efa5",
   "metadata": {},
   "source": [
    "## Logisitic vs Linear Regression\n",
    "\n",
    "- **Logistic Regression** is used for binary classification tasks where the output (target variable) is categorical (e.g., win or lose, 0 or 1).\n",
    "- **Linear Regression** is used for predicting continuous values (e.g., predicting a fighter's exact age, weight, or height).\n",
    "\n",
    "In your case, since you're predicting a binary outcome (whether Fighter 1 wins or loses), logistic regression is the correct choice.\n",
    "\n",
    "If you intended to perform linear regression instead (e.g., predicting a continuous value like age or number of wins), please let me know, and I can provide the appropriate code for that."
   ]
  },
  {
   "cell_type": "markdown",
   "id": "3912048d-07ef-4921-8000-f13d4ce66039",
   "metadata": {},
   "source": [
    "**In order to find undervalued teams and good betting opportunities, we can compare the model’s predicted winning probabilities to the implied winning probabilities from actual Vegas lines. The bigger the difference between the model and Vegas, the bigger the betting opportunity. By calculating the difference between the expected win probability and the Vegas posted odds we can determine how big of an edge we have over the house. This edge will determine how much to bet in each game.**"
   ]
  },
  {
   "cell_type": "code",
   "execution_count": null,
   "id": "999a384d-26b4-46d5-89d9-8d7b86675663",
   "metadata": {},
   "outputs": [],
   "source": []
  },
  {
   "cell_type": "code",
   "execution_count": null,
   "id": "f6d3ec2e-4979-44b7-b597-ea7e4481e6dc",
   "metadata": {},
   "outputs": [],
   "source": []
  }
 ],
 "metadata": {
  "kernelspec": {
   "display_name": "Python 3 (ipykernel)",
   "language": "python",
   "name": "python3"
  },
  "language_info": {
   "codemirror_mode": {
    "name": "ipython",
    "version": 3
   },
   "file_extension": ".py",
   "mimetype": "text/x-python",
   "name": "python",
   "nbconvert_exporter": "python",
   "pygments_lexer": "ipython3",
   "version": "3.12.0"
  }
 },
 "nbformat": 4,
 "nbformat_minor": 5
}
